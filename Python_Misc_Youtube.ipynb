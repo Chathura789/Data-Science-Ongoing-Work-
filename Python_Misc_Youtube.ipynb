{
  "nbformat": 4,
  "nbformat_minor": 0,
  "metadata": {
    "colab": {
      "provenance": [],
      "mount_file_id": "1BB3yQN3m8XvoOi-a9QOp86yG1V2uDnNR",
      "authorship_tag": "ABX9TyNn0X7jpVN0WQQsCgwxefFK",
      "include_colab_link": true
    },
    "kernelspec": {
      "name": "python3",
      "display_name": "Python 3"
    },
    "language_info": {
      "name": "python"
    }
  },
  "cells": [
    {
      "cell_type": "markdown",
      "metadata": {
        "id": "view-in-github",
        "colab_type": "text"
      },
      "source": [
        "<a href=\"https://colab.research.google.com/github/Chathura789/Data-sciene-Ongoing-Work-/blob/main/Python_Misc_Youtube.ipynb\" target=\"_parent\"><img src=\"https://colab.research.google.com/assets/colab-badge.svg\" alt=\"Open In Colab\"/></a>"
      ]
    },
    {
      "cell_type": "markdown",
      "source": [
        "# https://www.geeksforgeeks.org/pytube-python-library-download-youtube-videos/"
      ],
      "metadata": {
        "id": "2p5_VIeNlFA4"
      }
    },
    {
      "cell_type": "code",
      "source": [
        "#!pip install pytube "
      ],
      "metadata": {
        "colab": {
          "base_uri": "https://localhost:8080/"
        },
        "id": "LBF98KCBmIKc",
        "outputId": "3811ced3-10df-4bd7-d22d-674786ce48c0"
      },
      "execution_count": 2,
      "outputs": [
        {
          "output_type": "stream",
          "name": "stdout",
          "text": [
            "Looking in indexes: https://pypi.org/simple, https://us-python.pkg.dev/colab-wheels/public/simple/\n",
            "Collecting pytube\n",
            "  Downloading pytube-12.1.0-py3-none-any.whl (56 kB)\n",
            "\u001b[K     |████████████████████████████████| 56 kB 2.3 MB/s \n",
            "\u001b[?25hInstalling collected packages: pytube\n",
            "Successfully installed pytube-12.1.0\n"
          ]
        }
      ]
    },
    {
      "cell_type": "code",
      "source": [
        "\n",
        "#Working version\n",
        "\n",
        "import pytube\n",
        "link = \"https://www.youtube.com/watch?v=0bPJPiX89K0\"\n",
        "yt = pytube.YouTube(link)\n",
        "stream = yt.streams.first()\n",
        "stream.download()"
      ],
      "metadata": {
        "colab": {
          "base_uri": "https://localhost:8080/",
          "height": 36
        },
        "id": "Fu4DKhLJlVa-",
        "outputId": "37c5405b-cc05-47c8-db58-a3a3454b8515"
      },
      "execution_count": 5,
      "outputs": [
        {
          "output_type": "execute_result",
          "data": {
            "text/plain": [
              "'/content/Microsoft Azure Tutorial For Beginners  Microsoft Azure Training  Edureka.3gpp'"
            ],
            "application/vnd.google.colaboratory.intrinsic+json": {
              "type": "string"
            }
          },
          "metadata": {},
          "execution_count": 5
        }
      ]
    },
    {
      "cell_type": "code",
      "source": [
        "# importing the module \n",
        "from pytube import YouTube \n",
        "  \n",
        "# where to save \n",
        "SAVE_PATH = \"/content/drive/MyDrive/Youtube Testing \" #to_do \n",
        "  \n",
        "# link of the video to be downloaded \n",
        "link=\"https://www.youtube.com/watch?v=0bPJPiX89K0\"\n",
        "  \n",
        "try: \n",
        "    # object creation using YouTube\n",
        "    # which was imported in the beginning \n",
        "    yt = YouTube(link) \n",
        "except: \n",
        "    print(\"Connection Error\") #to handle exception \n",
        "  \n",
        "# filters out all the files with \"mp4\" extension \n",
        "mp4files = yt.filter('mp4') \n",
        "  \n",
        "#to set the name of the file\n",
        "yt.set_filename('GeeksforGeeks Video')  \n",
        "  \n",
        "# get the video with the extension and\n",
        "# resolution passed in the get() function \n",
        "d_video = yt.get(mp4files[-1].extension,mp4files[-1].resolution) \n",
        "try: \n",
        "    # downloading the video \n",
        "    d_video.download(SAVE_PATH) \n",
        "except: \n",
        "    print(\"Some Error!\") \n",
        "print('Task Completed!') "
      ],
      "metadata": {
        "colab": {
          "base_uri": "https://localhost:8080/",
          "height": 244
        },
        "id": "zoDZQ5KFlZPw",
        "outputId": "aea42b87-d998-46ec-8ecf-e4dabe5abb00"
      },
      "execution_count": 4,
      "outputs": [
        {
          "output_type": "error",
          "ename": "AttributeError",
          "evalue": "ignored",
          "traceback": [
            "\u001b[0;31m---------------------------------------------------------------------------\u001b[0m",
            "\u001b[0;31mAttributeError\u001b[0m                            Traceback (most recent call last)",
            "\u001b[0;32m<ipython-input-4-60d4070b5718>\u001b[0m in \u001b[0;36m<module>\u001b[0;34m\u001b[0m\n\u001b[1;32m     16\u001b[0m \u001b[0;34m\u001b[0m\u001b[0m\n\u001b[1;32m     17\u001b[0m \u001b[0;31m# filters out all the files with \"mp4\" extension\u001b[0m\u001b[0;34m\u001b[0m\u001b[0;34m\u001b[0m\u001b[0;34m\u001b[0m\u001b[0m\n\u001b[0;32m---> 18\u001b[0;31m \u001b[0mmp4files\u001b[0m \u001b[0;34m=\u001b[0m \u001b[0myt\u001b[0m\u001b[0;34m.\u001b[0m\u001b[0mfilter\u001b[0m\u001b[0;34m(\u001b[0m\u001b[0;34m'mp4'\u001b[0m\u001b[0;34m)\u001b[0m\u001b[0;34m\u001b[0m\u001b[0;34m\u001b[0m\u001b[0m\n\u001b[0m\u001b[1;32m     19\u001b[0m \u001b[0;34m\u001b[0m\u001b[0m\n\u001b[1;32m     20\u001b[0m \u001b[0;31m#to set the name of the file\u001b[0m\u001b[0;34m\u001b[0m\u001b[0;34m\u001b[0m\u001b[0;34m\u001b[0m\u001b[0m\n",
            "\u001b[0;31mAttributeError\u001b[0m: 'YouTube' object has no attribute 'filter'"
          ]
        }
      ]
    },
    {
      "cell_type": "code",
      "source": [
        "import pytube\n",
        "link = \"https://www.youtube.com/watch?v=0bPJPiX89K0\"\n",
        "yt = pytube.YouTube(link)\n",
        "type(yt.streams)\n"
      ],
      "metadata": {
        "colab": {
          "base_uri": "https://localhost:8080/"
        },
        "id": "5VwupLGFoLLr",
        "outputId": "44f85830-bef1-4161-9ffd-a19626cef45e"
      },
      "execution_count": 10,
      "outputs": [
        {
          "output_type": "execute_result",
          "data": {
            "text/plain": [
              "pytube.query.StreamQuery"
            ]
          },
          "metadata": {},
          "execution_count": 10
        }
      ]
    },
    {
      "cell_type": "code",
      "source": [
        "import shutil\n",
        "shutil.move(\"/content/Microsoft Azure Tutorial For Beginners  Microsoft Azure Training  Edureka.3gpp\", \"/content/drive/MyDrive/Youtube Testing \")"
      ],
      "metadata": {
        "colab": {
          "base_uri": "https://localhost:8080/",
          "height": 36
        },
        "id": "3e4LcLQamsW4",
        "outputId": "c69e24f2-df80-4612-b25e-01433b007cd0"
      },
      "execution_count": 7,
      "outputs": [
        {
          "output_type": "execute_result",
          "data": {
            "text/plain": [
              "'/content/drive/MyDrive/Youtube Testing /Microsoft Azure Tutorial For Beginners  Microsoft Azure Training  Edureka.3gpp'"
            ],
            "application/vnd.google.colaboratory.intrinsic+json": {
              "type": "string"
            }
          },
          "metadata": {},
          "execution_count": 7
        }
      ]
    }
  ]
}