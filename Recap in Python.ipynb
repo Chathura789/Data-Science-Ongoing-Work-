{
  "cells": [
    {
      "cell_type": "markdown",
      "metadata": {
        "id": "stHtpLrx6xaw"
      },
      "source": [
        "# Topic 3 Laboratory"
      ]
    },
    {
      "cell_type": "markdown",
      "metadata": {
        "id": "kXANaffC6xa5"
      },
      "source": [
        "In this activity you will have the opportunity to understand better how to import and manipulate images in Python."
      ]
    },
    {
      "cell_type": "markdown",
      "metadata": {
        "id": "K4c0ZPO76xa5"
      },
      "source": [
        "## Installing the necessary packages"
      ]
    },
    {
      "cell_type": "markdown",
      "metadata": {
        "id": "n5Ykmbze6xa6"
      },
      "source": [
        "To work with images in Python, we will use packages such as `numpy`, `OpenCV` and `matplotlib`."
      ]
    },
    {
      "cell_type": "markdown",
      "metadata": {
        "id": "-onjAttf6xa7"
      },
      "source": [
        "Execute the code in the following cell to install these packages using the `pip` command:"
      ]
    },
    {
      "cell_type": "code",
      "execution_count": null,
      "metadata": {
        "id": "OhWjFoUy6xa8",
        "colab": {
          "base_uri": "https://localhost:8080/"
        },
        "outputId": "c8531a63-aef8-4fb3-fa02-464a000d0310"
      },
      "outputs": [
        {
          "output_type": "stream",
          "name": "stdout",
          "text": [
            "Requirement already satisfied: opencv-python in /usr/local/lib/python3.7/dist-packages (4.1.2.30)\n",
            "Requirement already satisfied: numpy>=1.14.5 in /usr/local/lib/python3.7/dist-packages (from opencv-python) (1.19.5)\n",
            "Requirement already satisfied: matplotlib in /usr/local/lib/python3.7/dist-packages (3.2.2)\n",
            "Requirement already satisfied: kiwisolver>=1.0.1 in /usr/local/lib/python3.7/dist-packages (from matplotlib) (1.3.2)\n",
            "Requirement already satisfied: cycler>=0.10 in /usr/local/lib/python3.7/dist-packages (from matplotlib) (0.11.0)\n",
            "Requirement already satisfied: python-dateutil>=2.1 in /usr/local/lib/python3.7/dist-packages (from matplotlib) (2.8.2)\n",
            "Requirement already satisfied: pyparsing!=2.0.4,!=2.1.2,!=2.1.6,>=2.0.1 in /usr/local/lib/python3.7/dist-packages (from matplotlib) (3.0.7)\n",
            "Requirement already satisfied: numpy>=1.11 in /usr/local/lib/python3.7/dist-packages (from matplotlib) (1.19.5)\n",
            "Requirement already satisfied: six>=1.5 in /usr/local/lib/python3.7/dist-packages (from python-dateutil>=2.1->matplotlib) (1.15.0)\n"
          ]
        }
      ],
      "source": [
        "!pip install opencv-python\n",
        "!pip install matplotlib"
      ]
    },
    {
      "cell_type": "markdown",
      "metadata": {
        "id": "DvQzQa8_6xa9"
      },
      "source": [
        "Notice that we did not install numpy due to the following reasons:"
      ]
    },
    {
      "cell_type": "markdown",
      "metadata": {
        "id": "tY3lbXML6xa_"
      },
      "source": [
        "* We installed it last week during class(and there is no need to install it again)"
      ]
    },
    {
      "cell_type": "markdown",
      "metadata": {
        "id": "hv2Nlbr66xbA"
      },
      "source": [
        "* Sometimes packages include sub-packages. Such is the case of the three previous ones, which already contain numpy"
      ]
    },
    {
      "cell_type": "markdown",
      "metadata": {
        "id": "pcW4MYUG6xbA"
      },
      "source": [
        "## Importing the modules"
      ]
    },
    {
      "cell_type": "markdown",
      "metadata": {
        "id": "n2e9rKjg6xbB"
      },
      "source": [
        "Now we will import the packages, functions and classes we will use for this activity:"
      ]
    },
    {
      "cell_type": "markdown",
      "metadata": {
        "id": "ScZFc85m6xbB"
      },
      "source": [
        "* The first one is `OpenCV`, which is refered to as `cv2`:"
      ]
    },
    {
      "cell_type": "code",
      "execution_count": null,
      "metadata": {
        "id": "SuAG7nVM6xbC"
      },
      "outputs": [],
      "source": [
        "import cv2"
      ]
    },
    {
      "cell_type": "markdown",
      "metadata": {
        "id": "cOnFjqVi6xbC"
      },
      "source": [
        "* To handle and perform operations on the images, we need `numpy`, which can be imported by executing the command we saw in class:"
      ]
    },
    {
      "cell_type": "code",
      "execution_count": null,
      "metadata": {
        "id": "hffYO7ss6xbD"
      },
      "outputs": [],
      "source": [
        "import numpy as np"
      ]
    },
    {
      "cell_type": "markdown",
      "metadata": {
        "id": "bLy6UnJb6xbD"
      },
      "source": [
        "* To plot the images, we will use `matplotlib.pyplot` assigning the pseudonym `plt` for short"
      ]
    },
    {
      "cell_type": "code",
      "execution_count": null,
      "metadata": {
        "id": "OXOB3t0R6xbD"
      },
      "outputs": [],
      "source": [
        "import matplotlib.pyplot as plt"
      ]
    },
    {
      "cell_type": "markdown",
      "metadata": {
        "id": "S39H3uUW6xbD"
      },
      "source": [
        "## Working with grayscale images"
      ]
    },
    {
      "cell_type": "markdown",
      "metadata": {
        "id": "9oy3AmTM6xbD"
      },
      "source": [
        "### Importing the image"
      ]
    },
    {
      "cell_type": "markdown",
      "metadata": {
        "id": "LVOpllIk6xbD"
      },
      "source": [
        "First, go to moodle and from the section containing the material for this week download image `logo.png`."
      ]
    },
    {
      "cell_type": "markdown",
      "metadata": {
        "id": "dXthpCPU6xbE"
      },
      "source": [
        "Save the file **in the same directory as this Jupyter notebook**."
      ]
    },
    {
      "cell_type": "markdown",
      "metadata": {
        "id": "ysYLobmk6xbF"
      },
      "source": [
        "To import the Python logo as a `numpy array` into a variable called `img`, we will use the `imread`command from `OpenCV`."
      ]
    },
    {
      "cell_type": "markdown",
      "metadata": {
        "id": "sbjS_DMY6xbF"
      },
      "source": [
        "You can find the full documentation of the command [here](https://docs.opencv.org/4.2.0/d4/da8/group__imgcodecs.html), but I strongly recommend you to check the [OpenCV Python Tutorials](https://opencv-python-tutroals.readthedocs.io/en/latest/py_tutorials/py_gui/py_image_display/py_image_display.html) whenever you have a doubt of any command, as they are more suitable and easier to understand that the `OpenCV` original documentation which is designed for C."
      ]
    },
    {
      "cell_type": "code",
      "execution_count": null,
      "metadata": {
        "id": "4Q8Y4OHo6xbF"
      },
      "outputs": [],
      "source": [
        "## Importing the logo as a grayscale image\n",
        "img = cv2.imread(\"logo.png\",0)"
      ]
    },
    {
      "cell_type": "markdown",
      "metadata": {
        "id": "fWlC27Kh6xbF"
      },
      "source": [
        "Notice that the `imread` function has two parameters: the **image file** to load and a **flag** (0/1) which indicates if we need to load the image as grayscale/colour respectively."
      ]
    },
    {
      "cell_type": "markdown",
      "metadata": {
        "id": "iA0lEzsX6xbG"
      },
      "source": [
        "Check the type and shape of the image to verify that you have a `numpy` array of size $75 \\times 75$"
      ]
    },
    {
      "cell_type": "code",
      "execution_count": null,
      "metadata": {
        "id": "GTfXKDAa6xbG",
        "colab": {
          "base_uri": "https://localhost:8080/"
        },
        "outputId": "49158941-8cfe-41db-8d27-88e7b6827d96"
      },
      "outputs": [
        {
          "output_type": "execute_result",
          "data": {
            "text/plain": [
              "numpy.ndarray"
            ]
          },
          "metadata": {},
          "execution_count": 6
        }
      ],
      "source": [
        "type(img)"
      ]
    },
    {
      "cell_type": "code",
      "execution_count": null,
      "metadata": {
        "id": "E-fAl6M36xbG",
        "colab": {
          "base_uri": "https://localhost:8080/"
        },
        "outputId": "2ad6ab41-9dcf-490b-9cbb-35c10c2b7dca"
      },
      "outputs": [
        {
          "output_type": "execute_result",
          "data": {
            "text/plain": [
              "(75, 75)"
            ]
          },
          "metadata": {},
          "execution_count": 7
        }
      ],
      "source": [
        "img.shape"
      ]
    },
    {
      "cell_type": "markdown",
      "metadata": {
        "id": "pbDwzeUq6xbH"
      },
      "source": [
        "What would happen if we print `img`? Are we able to see it? Run the following cell to find out!"
      ]
    },
    {
      "cell_type": "code",
      "execution_count": null,
      "metadata": {
        "id": "vslB8qef6xbH",
        "scrolled": true,
        "colab": {
          "base_uri": "https://localhost:8080/"
        },
        "outputId": "9a483158-4938-48e7-dc53-b2a2187023da"
      },
      "outputs": [
        {
          "output_type": "stream",
          "name": "stdout",
          "text": [
            "[[234 246 246 ... 246 246 234]\n",
            " [243 255 255 ... 255 255 242]\n",
            " [243 255 255 ... 255 255 242]\n",
            " ...\n",
            " [243 255 255 ... 255 255 242]\n",
            " [243 255 255 ... 255 255 242]\n",
            " [234 246 246 ... 246 246 234]]\n"
          ]
        }
      ],
      "source": [
        "print(img)"
      ]
    },
    {
      "cell_type": "markdown",
      "metadata": {
        "id": "46rhafTy6xbH"
      },
      "source": [
        "Notice that we only see a bunch of numbers in an array. This is because when printing the variable, Python automatically assumes that we want to visualise the values of the pixels and not the image itself."
      ]
    },
    {
      "cell_type": "markdown",
      "metadata": {
        "id": "GeD4HX1Q6xbH"
      },
      "source": [
        "To show the actual image, we can use either the `cv2.imshow` function or the `plt.imshow` function (from the `matplotlib.pyplot` library). If you are using Jupyter Notebook, the second option is best!"
      ]
    },
    {
      "cell_type": "code",
      "execution_count": null,
      "metadata": {
        "id": "LJEdqXYR6xbH"
      },
      "outputs": [],
      "source": [
        "#cv2.imshow('logo',img)\n",
        "#cv2.waitKey()"
      ]
    },
    {
      "cell_type": "code",
      "execution_count": null,
      "metadata": {
        "id": "HrlSrs296xbI",
        "colab": {
          "base_uri": "https://localhost:8080/",
          "height": 286
        },
        "outputId": "1d2a3c24-9f31-45fe-de79-587a181cc159"
      },
      "outputs": [
        {
          "output_type": "execute_result",
          "data": {
            "text/plain": [
              "<matplotlib.image.AxesImage at 0x7f836df9f210>"
            ]
          },
          "metadata": {},
          "execution_count": 10
        },
        {
          "output_type": "display_data",
          "data": {
            "image/png": "[encoded data removed]",
            "text/plain": [
              "<Figure size 432x288 with 1 Axes>"
            ]
          },
          "metadata": {
            "needs_background": "light"
          }
        }
      ],
      "source": [
        "plt.imshow(img)"
      ]
    },
    {
      "cell_type": "markdown",
      "metadata": {
        "id": "NATX4Iah6xbI"
      },
      "source": [
        "The first option will show the image in a pop-up window which is prone to crash, while the second one will show you the image within a coordinate plane and within the notebook."
      ]
    },
    {
      "cell_type": "markdown",
      "metadata": {
        "id": "LWOvTV3F6xbI"
      },
      "source": [
        "However, the image does not appear in grayscale as `plt` attempts to use colours to show you the image with a better contrast."
      ]
    },
    {
      "cell_type": "markdown",
      "metadata": {
        "id": "7V0NOC5T6xbI"
      },
      "source": [
        "To avoid the yellow background, you can use the following setting:"
      ]
    },
    {
      "cell_type": "code",
      "execution_count": null,
      "metadata": {
        "id": "7teDNwIy6xbI",
        "colab": {
          "base_uri": "https://localhost:8080/",
          "height": 286
        },
        "outputId": "7d44dd19-904d-4c84-ceb0-b2abba60c8a2"
      },
      "outputs": [
        {
          "output_type": "execute_result",
          "data": {
            "text/plain": [
              "<matplotlib.image.AxesImage at 0x7f836d992550>"
            ]
          },
          "metadata": {},
          "execution_count": 11
        },
        {
          "output_type": "display_data",
          "data": {
            "image/png": "[encoded data removed]",
            "text/plain": [
              "<Figure size 432x288 with 1 Axes>"
            ]
          },
          "metadata": {
            "needs_background": "light"
          }
        }
      ],
      "source": [
        "plt.imshow(img, cmap='Greys_r')"
      ]
    },
    {
      "cell_type": "markdown",
      "metadata": {
        "id": "HOEyHMog6xbJ"
      },
      "source": [
        "### Locating the value of pixels"
      ]
    },
    {
      "cell_type": "markdown",
      "metadata": {
        "id": "z0aRvlsq6xbJ"
      },
      "source": [
        "Notice that the image is shown with a coordinate plane which gives us an idea of the positions of the pixels within the logo."
      ]
    },
    {
      "cell_type": "markdown",
      "metadata": {
        "id": "nyXCFpcV6xbJ"
      },
      "source": [
        "Given that this is a $75 \\times 75$ image, we can access different positions of the image to see their value."
      ]
    },
    {
      "cell_type": "markdown",
      "metadata": {
        "id": "WcsPlg4X6xbJ"
      },
      "source": [
        "For instance, to see the value of the **left-top** pixel, we can use the following command (The first zero corresponds to the y-axis/rows and the second zero corresponds to the x-axis/column):"
      ]
    },
    {
      "cell_type": "code",
      "execution_count": null,
      "metadata": {
        "id": "JIKrcrvy6xbK",
        "colab": {
          "base_uri": "https://localhost:8080/"
        },
        "outputId": "98a8d701-8419-4919-e5d4-5b97de3bbaa6"
      },
      "outputs": [
        {
          "output_type": "stream",
          "name": "stdout",
          "text": [
            "234\n"
          ]
        }
      ],
      "source": [
        "print(img[0,0])"
      ]
    },
    {
      "cell_type": "markdown",
      "metadata": {
        "id": "deUsSM0E6xbK"
      },
      "source": [
        "We can use the same command to see different positions of the image."
      ]
    },
    {
      "cell_type": "markdown",
      "metadata": {
        "id": "MDEowsg96xbL"
      },
      "source": [
        "For instance, you can see the value of the other corners or some values from the two pythons."
      ]
    },
    {
      "cell_type": "code",
      "execution_count": null,
      "metadata": {
        "id": "AlizAHJc6xbL",
        "colab": {
          "base_uri": "https://localhost:8080/"
        },
        "outputId": "e5e684b7-c6d1-42e0-879f-6bb83c717d4c"
      },
      "outputs": [
        {
          "output_type": "stream",
          "name": "stdout",
          "text": [
            "243\n"
          ]
        }
      ],
      "source": [
        "## Use this cell to print the values of different pixels\n",
        "print(img[21,0])"
      ]
    },
    {
      "cell_type": "markdown",
      "metadata": {
        "id": "sZ36Q3zi6xbM"
      },
      "source": [
        "Take note of the approximate values corresponding to the two pythons. We will use this information later!"
      ]
    },
    {
      "cell_type": "markdown",
      "metadata": {
        "id": "QRJH3Vl06xbM"
      },
      "source": [
        "### Changing the value of pixels"
      ]
    },
    {
      "cell_type": "markdown",
      "metadata": {
        "id": "X3Wmcr1A6xbM"
      },
      "source": [
        "We can change the top-left pixel of the img in `img` to black by issuing the following code:"
      ]
    },
    {
      "cell_type": "code",
      "execution_count": null,
      "metadata": {
        "id": "tViVRlox6xbM",
        "colab": {
          "base_uri": "https://localhost:8080/",
          "height": 407
        },
        "outputId": "e9cf9578-a4d2-46b9-862e-ac66a96c905c"
      },
      "outputs": [
        {
          "output_type": "stream",
          "name": "stdout",
          "text": [
            "[[  0 246 246 ... 246 246 234]\n",
            " [243 255 255 ... 255 255 242]\n",
            " [243 255 255 ... 255 255 242]\n",
            " ...\n",
            " [243 255 255 ... 255 255 242]\n",
            " [243 255 255 ... 255 255 242]\n",
            " [234 246 246 ... 246 246 234]]\n"
          ]
        },
        {
          "output_type": "execute_result",
          "data": {
            "text/plain": [
              "<matplotlib.image.AxesImage at 0x7f836d9134d0>"
            ]
          },
          "metadata": {},
          "execution_count": 16
        },
        {
          "output_type": "display_data",
          "data": {
            "image/png": "[encoded data removed]",
            "text/plain": [
              "<Figure size 432x288 with 1 Axes>"
            ]
          },
          "metadata": {
            "needs_background": "light"
          }
        }
      ],
      "source": [
        "img[0,0]=0\n",
        "print(img)\n",
        "plt.imshow(img, cmap='Greys_r')"
      ]
    },
    {
      "cell_type": "markdown",
      "metadata": {
        "id": "tVM5WyPn6xbN"
      },
      "source": [
        "### Trimming the image"
      ]
    },
    {
      "cell_type": "markdown",
      "metadata": {
        "id": "BjBHV1ce6xbN"
      },
      "source": [
        "We can also slice the image and create a new, smaller one."
      ]
    },
    {
      "cell_type": "markdown",
      "metadata": {
        "id": "DOloq_O66xbO"
      },
      "source": [
        "For instance, say that you want to produce a new image only with the face of the dark-coloured python."
      ]
    },
    {
      "cell_type": "markdown",
      "metadata": {
        "id": "adJSfCg06xbO"
      },
      "source": [
        "We start from the **row 15** to the **row 26**, and then from the **column 24** to the **column 39**."
      ]
    },
    {
      "cell_type": "markdown",
      "metadata": {
        "id": "_uDEQ00Q6xbO"
      },
      "source": [
        "Now, we can use the following code to produce a trimmed image called `img_trimdark` with the face of the dark-coloured python."
      ]
    },
    {
      "cell_type": "code",
      "execution_count": null,
      "metadata": {
        "id": "USD8z6UZ6xbO",
        "colab": {
          "base_uri": "https://localhost:8080/",
          "height": 282
        },
        "outputId": "2ae467d5-110f-480c-e340-d27eda229512"
      },
      "outputs": [
        {
          "output_type": "execute_result",
          "data": {
            "text/plain": [
              "<matplotlib.image.AxesImage at 0x7f836d889150>"
            ]
          },
          "metadata": {},
          "execution_count": 17
        },
        {
          "output_type": "display_data",
          "data": {
            "image/png": "[encoded data removed]",
            "text/plain": [
              "<Figure size 432x288 with 1 Axes>"
            ]
          },
          "metadata": {
            "needs_background": "light"
          }
        }
      ],
      "source": [
        "img_trimdark = img[15:26,24:39] # rows go first, columns go after\n",
        "plt.imshow(img_trimdark, cmap='Greys_r')"
      ]
    },
    {
      "cell_type": "markdown",
      "metadata": {
        "id": "rCyhexFh6xbP"
      },
      "source": [
        "Now it's your turn to create a trimmed image called `img_trimlight` with the face of the light-coloured python."
      ]
    },
    {
      "cell_type": "code",
      "execution_count": null,
      "metadata": {
        "id": "lYFJjnS06xbP",
        "colab": {
          "base_uri": "https://localhost:8080/",
          "height": 282
        },
        "outputId": "81124a28-66ea-421a-e584-34fd35625abb"
      },
      "outputs": [
        {
          "output_type": "execute_result",
          "data": {
            "text/plain": [
              "<matplotlib.image.AxesImage at 0x7f836d39ea50>"
            ]
          },
          "metadata": {},
          "execution_count": 30
        },
        {
          "output_type": "display_data",
          "data": {
            "image/png": "[encoded data removed]",
            "text/plain": [
              "<Figure size 432x288 with 1 Axes>"
            ]
          },
          "metadata": {
            "needs_background": "light"
          }
        }
      ],
      "source": [
        "## Use this cell to create img_trimlight\n",
        "img_trimlight = img[4 7:56,13:38] # rows go first, columns go after\n",
        "plt.imshow(img_trimlight, cmap='Greys_r')"
      ]
    },
    {
      "cell_type": "markdown",
      "metadata": {
        "id": "6eju8g2tltiK"
      },
      "source": [
        "The image should look like this:\n",
        "![facebottom](https://www.dropbox.com/s/87ka01xgeebi2ge/facebottom.png?raw=1)"
      ]
    },
    {
      "cell_type": "markdown",
      "metadata": {
        "id": "f_7FwnWn6xbP"
      },
      "source": [
        "### Inverting the image"
      ]
    },
    {
      "cell_type": "markdown",
      "metadata": {
        "id": "10sxdp_A6xbP"
      },
      "source": [
        "You can also create the *negative* of an image by doing the following:"
      ]
    },
    {
      "cell_type": "code",
      "execution_count": null,
      "metadata": {
        "id": "Fj5eIGEw6xbP",
        "colab": {
          "base_uri": "https://localhost:8080/",
          "height": 407
        },
        "outputId": "c53f9733-b70c-4a32-8c28-1a51ba312c55"
      },
      "outputs": [
        {
          "output_type": "stream",
          "name": "stdout",
          "text": [
            "[[255   9   9 ...   9   9  21]\n",
            " [ 12   0   0 ...   0   0  13]\n",
            " [ 12   0   0 ...   0   0  13]\n",
            " ...\n",
            " [ 12   0   0 ...   0   0  13]\n",
            " [ 12   0   0 ...   0   0  13]\n",
            " [ 21   9   9 ...   9   9  21]]\n"
          ]
        },
        {
          "output_type": "execute_result",
          "data": {
            "text/plain": [
              "<matplotlib.image.AxesImage at 0x7f836d3117d0>"
            ]
          },
          "metadata": {},
          "execution_count": 31
        },
        {
          "output_type": "display_data",
          "data": {
            "image/png": "[encoded data removed]",
            "text/plain": [
              "<Figure size 432x288 with 1 Axes>"
            ]
          },
          "metadata": {
            "needs_background": "light"
          }
        }
      ],
      "source": [
        "img_neg = 255 - img\n",
        "print(img_neg)\n",
        "plt.imshow(img_neg, cmap='Greys_r')"
      ]
    },
    {
      "cell_type": "markdown",
      "metadata": {
        "id": "GqdaI3iV6xbP"
      },
      "source": [
        "By subtracting $255$ minus the original image, what we are doing is converting all values into their opposite ones (in the gray scale)."
      ]
    },
    {
      "cell_type": "markdown",
      "metadata": {
        "id": "bJ25WFZu6xbP"
      },
      "source": [
        "### Transposing the image"
      ]
    },
    {
      "cell_type": "markdown",
      "metadata": {
        "id": "mXv-WEas6xbP"
      },
      "source": [
        "As seen in the previous lab, there is a mathematical operation called **transpose** which lets you exchange the columns and the rows of a matrix. This function is also included in the numpy module, and it can be applied to image arrays as well:"
      ]
    },
    {
      "cell_type": "code",
      "execution_count": null,
      "metadata": {
        "id": "qs8wHWiu6xbQ",
        "colab": {
          "base_uri": "https://localhost:8080/",
          "height": 286
        },
        "outputId": "3a1b5608-9817-46c1-a159-d7fb3403308d"
      },
      "outputs": [
        {
          "output_type": "execute_result",
          "data": {
            "text/plain": [
              "<matplotlib.image.AxesImage at 0x7f836d27ab50>"
            ]
          },
          "metadata": {},
          "execution_count": 32
        },
        {
          "output_type": "display_data",
          "data": {
            "image/png": "[encoded data removed]",
            "text/plain": [
              "<Figure size 432x288 with 1 Axes>"
            ]
          },
          "metadata": {
            "needs_background": "light"
          }
        }
      ],
      "source": [
        "img_trans = img.transpose()\n",
        "plt.imshow(img_trans, cmap='Greys_r')"
      ]
    },
    {
      "cell_type": "markdown",
      "metadata": {
        "id": "fZwznVtR6xbQ"
      },
      "source": [
        "Notice that the new image is turned 90 degrees counter-clockwise and has also been flipped vertically."
      ]
    },
    {
      "cell_type": "markdown",
      "metadata": {
        "id": "clCVtrHK6xbQ"
      },
      "source": [
        "### Resizing the image"
      ]
    },
    {
      "cell_type": "markdown",
      "metadata": {
        "id": "6jSMzvti6xbQ"
      },
      "source": [
        "`OpenCV`also contains a pre-defined function to resize the image by indicating the new width/height."
      ]
    },
    {
      "cell_type": "code",
      "execution_count": null,
      "metadata": {
        "id": "joWlna4f6xbQ",
        "colab": {
          "base_uri": "https://localhost:8080/",
          "height": 286
        },
        "outputId": "7509c047-6037-49bf-b872-eeac23e3a626"
      },
      "outputs": [
        {
          "output_type": "execute_result",
          "data": {
            "text/plain": [
              "<matplotlib.image.AxesImage at 0x7f836d262290>"
            ]
          },
          "metadata": {},
          "execution_count": 33
        },
        {
          "output_type": "display_data",
          "data": {
            "image/png": "[encoded data removed]",
            "text/plain": [
              "<Figure size 432x288 with 1 Axes>"
            ]
          },
          "metadata": {
            "needs_background": "light"
          }
        }
      ],
      "source": [
        "img_resize = cv2.resize(img, (100, 150)) \n",
        "plt.imshow(img_resize, cmap='Greys_r')"
      ]
    },
    {
      "cell_type": "markdown",
      "metadata": {
        "id": "1-MelB-N6xbR"
      },
      "source": [
        "Try different values in the tuple (second parameter of the function) to see different results."
      ]
    },
    {
      "cell_type": "markdown",
      "metadata": {
        "id": "hTBOVawd6xbR"
      },
      "source": [
        "### Normalising the image"
      ]
    },
    {
      "cell_type": "markdown",
      "metadata": {
        "id": "JhPltk3s6xbS"
      },
      "source": [
        "To convert the image from standard to normalised grayscale, we simply need to divide the `numpy`array by 255 as follows"
      ]
    },
    {
      "cell_type": "code",
      "execution_count": null,
      "metadata": {
        "id": "p9exDxe16xbS",
        "colab": {
          "base_uri": "https://localhost:8080/",
          "height": 407
        },
        "outputId": "e388ca75-dfb1-40a9-ce54-11b50052b647"
      },
      "outputs": [
        {
          "output_type": "stream",
          "name": "stdout",
          "text": [
            "[[0.         0.96470588 0.96470588 ... 0.96470588 0.96470588 0.91764706]\n",
            " [0.95294118 1.         1.         ... 1.         1.         0.94901961]\n",
            " [0.95294118 1.         1.         ... 1.         1.         0.94901961]\n",
            " ...\n",
            " [0.95294118 1.         1.         ... 1.         1.         0.94901961]\n",
            " [0.95294118 1.         1.         ... 1.         1.         0.94901961]\n",
            " [0.91764706 0.96470588 0.96470588 ... 0.96470588 0.96470588 0.91764706]]\n"
          ]
        },
        {
          "output_type": "execute_result",
          "data": {
            "text/plain": [
              "<matplotlib.image.AxesImage at 0x7f836d7b11d0>"
            ]
          },
          "metadata": {},
          "execution_count": 34
        },
        {
          "output_type": "display_data",
          "data": {
            "image/png": "[encoded data removed]",
            "text/plain": [
              "<Figure size 432x288 with 1 Axes>"
            ]
          },
          "metadata": {
            "needs_background": "light"
          }
        }
      ],
      "source": [
        "img_norm = img/255\n",
        "print(img_norm)\n",
        "plt.imshow(img_norm, cmap='Greys_r')"
      ]
    },
    {
      "cell_type": "markdown",
      "metadata": {
        "id": "lVhHlriH6xbS"
      },
      "source": [
        "Notice that nothing has changed visually, just the values!"
      ]
    },
    {
      "cell_type": "markdown",
      "metadata": {
        "id": "32QfT8SL6xbS"
      },
      "source": [
        "### Binarising the image"
      ]
    },
    {
      "cell_type": "markdown",
      "metadata": {
        "id": "631cn2jV6xbS"
      },
      "source": [
        "#### The long and hard way (but necessary to understand and practice Python)"
      ]
    },
    {
      "cell_type": "markdown",
      "metadata": {
        "id": "QD5UKfP_6xbT"
      },
      "source": [
        "Remember you wrote down the values of the pixels of both pythons? Now it's time to put this information into use! "
      ]
    },
    {
      "cell_type": "markdown",
      "metadata": {
        "id": "6vsTuBeq6xbT"
      },
      "source": [
        "Before using the pre-built function, we will design our own binarisation function to understand how it works!"
      ]
    },
    {
      "cell_type": "markdown",
      "metadata": {
        "id": "8z89GIQB6xbT"
      },
      "source": [
        "Take into account the following:\n",
        "1. Your function needs two inputs: the **image to binarise** and the **threshold**, which is a cut-off value between 0 and 255.\n",
        "2. Your function has to iterate the `numpy` array for all rows and columns of the image (double loop).\n",
        "3. For each position, the system has to compare the value of the pixel with the threshold. If the value of the pixel is *smaller* than the threshold, then the function changes the value of the pixel to zero. Else, the function changes it to 255.\n",
        "4. To avoid losing the original image, create a copy and change the copy, not the original one! (hint: use the `.copy()` function to do so).\n",
        "5. Notice that depending on the threshold value selected, you will get different outputs!"
      ]
    },
    {
      "cell_type": "code",
      "execution_count": null,
      "metadata": {
        "id": "ezqr0we_6xbT"
      },
      "outputs": [],
      "source": [
        "## Use this cell to create the binarisation function\n",
        "def binarise(img, threshold):\n",
        "  #Your function needs two inputs: the image to binarise and the threshold, which is a cut-off value between 0 and 255\n",
        "  img_bin = img > threshold\n",
        "\n",
        "  #Your function has to iterate the numpy array for all rows and columns of the image (double loop)\n",
        "  \n",
        "\n",
        "  #For each position, the system has to compare the value of the pixel with the threshold. If the value of the pixel is smaller than the threshold,\n",
        "  #then the function changes the value of the pixel to zero. Else, the function changes it to 255.\n",
        "  \n",
        "\n",
        "\n",
        "  #To avoid losing the original image, create a copy and change the copy,\n",
        "  #not the original one! (hint: use the .copy() function to do so).\n",
        "  \n",
        "  \n",
        "  #Notice that depending on the threshold value selected, you will get different outputs!\n",
        "\n",
        "    \n",
        "  return img_bin\n",
        "  \n",
        "\n",
        "\n",
        "\n"
      ]
    },
    {
      "cell_type": "code",
      "source": [
        "def binarize(image_file, thresh_val=127, with_plot=False, gray_scale=False):\n",
        "    image_src = read_this(image_file=image_file, gray_scale=gray_scale)\n",
        "    \n",
        "    if not gray_scale:\n",
        "        cmap_val = None\n",
        "        r_img, g_img, b_img = image_src[:, :, 0], image_src[:, :, 1], image_src[:, :, 2]\n",
        "        \n",
        "        r_b = convert_binary(image_matrix=r_img, thresh_val=thresh_val)\n",
        "        g_b = convert_binary(image_matrix=g_img, thresh_val=thresh_val)\n",
        "        b_b = convert_binary(image_matrix=b_img, thresh_val=thresh_val)\n",
        "        \n",
        "        image_b = np.dstack(tup=(r_b, g_b, b_b))\n",
        "    else:\n",
        "        cmap_val = 'gray'\n",
        "        image_b = convert_binary(image_matrix=image_src, thresh_val=thresh_val)\n",
        "    \n",
        "    if with_plot:\n",
        "        fig, (ax1, ax2) = plt.subplots(nrows=1, ncols=2, figsize=(10, 20))\n",
        "        \n",
        "        ax1.axis(\"off\")\n",
        "        ax1.title.set_text('Original')\n",
        "        \n",
        "        ax2.axis(\"off\")\n",
        "        ax2.title.set_text(\"Binarized\")\n",
        "        \n",
        "        ax1.imshow(image_src, cmap=cmap_val)\n",
        "        ax2.imshow(image_b, cmap=cmap_val)\n",
        "        return True\n",
        "    return image_b"
      ],
      "metadata": {
        "id": "X_DviJu0K5wx"
      },
      "execution_count": null,
      "outputs": []
    },
    {
      "cell_type": "code",
      "execution_count": null,
      "metadata": {
        "id": "MHHWJeYb6xbT"
      },
      "outputs": [],
      "source": [
        "## Use this cell to execute the binarise function and show both pythons in black.\n",
        "binarize(img, thresh_val=127)\n"
      ]
    },
    {
      "cell_type": "markdown",
      "metadata": {
        "id": "L1c2bihImKwQ"
      },
      "source": [
        "The image should look like this:\n",
        "![logobin](https://www.dropbox.com/s/efyucpdnb7jlx7w/logobin.png?raw=1)"
      ]
    },
    {
      "cell_type": "code",
      "execution_count": null,
      "metadata": {
        "id": "mz6qN4iW6xbT"
      },
      "outputs": [],
      "source": [
        "## Use this cell to execute the binarise function to show only the dark python and \"disappear\" the light one.\n"
      ]
    },
    {
      "cell_type": "markdown",
      "metadata": {
        "id": "QS6Rz7E3mLIV"
      },
      "source": [
        "The image should look like this:\n",
        "![logosuperbin](https://www.dropbox.com/s/cbutycsl5y1zfr3/logosuperbin.png?raw=1)"
      ]
    },
    {
      "cell_type": "markdown",
      "metadata": {
        "id": "_EKTzOrj6xbT"
      },
      "source": [
        "#### The cv2 option"
      ]
    },
    {
      "cell_type": "markdown",
      "metadata": {
        "id": "gu1FTGkX6xbU"
      },
      "source": [
        "Click [here](https://docs.opencv.org/4.x/d7/d4d/tutorial_py_thresholding.html) to see a very comprehensive tutorial on how to use the binarisation function contained in `OpenCV`."
      ]
    },
    {
      "cell_type": "code",
      "source": [
        "im = cv2.imread('/content/logo.png ')"
      ],
      "metadata": {
        "id": "-1_Kc4pQOd47"
      },
      "execution_count": null,
      "outputs": []
    },
    {
      "cell_type": "code",
      "source": [
        "im_gray = cv2.cvtColor(im, cv2.COLOR_BGR2GRAY)\n",
        "th, im_th = cv2.threshold(im_gray, 128, 255, cv2.THRESH_BINARY)\n",
        "\n",
        "print(th)\n",
        "# 128.0\n",
        "\n",
        "cv2.imwrite('/content/logo_result.png', im_th)"
      ],
      "metadata": {
        "colab": {
          "base_uri": "https://localhost:8080/"
        },
        "id": "Ih0MA5t4OiBS",
        "outputId": "f140e02b-80a4-4128-8cbe-4c2f28c52ae4"
      },
      "execution_count": null,
      "outputs": [
        {
          "output_type": "stream",
          "name": "stdout",
          "text": [
            "128.0\n"
          ]
        },
        {
          "output_type": "execute_result",
          "data": {
            "text/plain": [
              "True"
            ]
          },
          "metadata": {},
          "execution_count": 58
        }
      ]
    },
    {
      "cell_type": "code",
      "source": [
        "im_thres = cv2.imread('/content/logo_result.png ')\n",
        "plt.imshow(im_thres)\n",
        "cv2.imshow('logo',img)\n",
        "cv2.waitKey()"
      ],
      "metadata": {
        "colab": {
          "base_uri": "https://localhost:8080/",
          "height": 580
        },
        "id": "erelPUToO67i",
        "outputId": "64611e70-831e-427c-b938-9a95f7694145"
      },
      "execution_count": null,
      "outputs": [
        {
          "output_type": "error",
          "ename": "TypeError",
          "evalue": "ignored",
          "traceback": [
            "\u001b[0;31m---------------------------------------------------------------------------\u001b[0m",
            "\u001b[0;31mTypeError\u001b[0m                                 Traceback (most recent call last)",
            "\u001b[0;32m<ipython-input-61-ca39332e2767>\u001b[0m in \u001b[0;36m<module>\u001b[0;34m()\u001b[0m\n\u001b[1;32m      1\u001b[0m \u001b[0mim_thres\u001b[0m \u001b[0;34m=\u001b[0m \u001b[0mcv2\u001b[0m\u001b[0;34m.\u001b[0m\u001b[0mimread\u001b[0m\u001b[0;34m(\u001b[0m\u001b[0;34m'/content/logo_result.png '\u001b[0m\u001b[0;34m)\u001b[0m\u001b[0;34m\u001b[0m\u001b[0;34m\u001b[0m\u001b[0m\n\u001b[0;32m----> 2\u001b[0;31m \u001b[0mplt\u001b[0m\u001b[0;34m.\u001b[0m\u001b[0mimshow\u001b[0m\u001b[0;34m(\u001b[0m\u001b[0mim_thres\u001b[0m\u001b[0;34m)\u001b[0m\u001b[0;34m\u001b[0m\u001b[0;34m\u001b[0m\u001b[0m\n\u001b[0m",
            "\u001b[0;32m/usr/local/lib/python3.7/dist-packages/matplotlib/pyplot.py\u001b[0m in \u001b[0;36mimshow\u001b[0;34m(X, cmap, norm, aspect, interpolation, alpha, vmin, vmax, origin, extent, shape, filternorm, filterrad, imlim, resample, url, data, **kwargs)\u001b[0m\n\u001b[1;32m   2649\u001b[0m         \u001b[0mfilternorm\u001b[0m\u001b[0;34m=\u001b[0m\u001b[0mfilternorm\u001b[0m\u001b[0;34m,\u001b[0m \u001b[0mfilterrad\u001b[0m\u001b[0;34m=\u001b[0m\u001b[0mfilterrad\u001b[0m\u001b[0;34m,\u001b[0m \u001b[0mimlim\u001b[0m\u001b[0;34m=\u001b[0m\u001b[0mimlim\u001b[0m\u001b[0;34m,\u001b[0m\u001b[0;34m\u001b[0m\u001b[0;34m\u001b[0m\u001b[0m\n\u001b[1;32m   2650\u001b[0m         resample=resample, url=url, **({\"data\": data} if data is not\n\u001b[0;32m-> 2651\u001b[0;31m         None else {}), **kwargs)\n\u001b[0m\u001b[1;32m   2652\u001b[0m     \u001b[0msci\u001b[0m\u001b[0;34m(\u001b[0m\u001b[0m__ret\u001b[0m\u001b[0;34m)\u001b[0m\u001b[0;34m\u001b[0m\u001b[0;34m\u001b[0m\u001b[0m\n\u001b[1;32m   2653\u001b[0m     \u001b[0;32mreturn\u001b[0m \u001b[0m__ret\u001b[0m\u001b[0;34m\u001b[0m\u001b[0;34m\u001b[0m\u001b[0m\n",
            "\u001b[0;32m/usr/local/lib/python3.7/dist-packages/matplotlib/__init__.py\u001b[0m in \u001b[0;36minner\u001b[0;34m(ax, data, *args, **kwargs)\u001b[0m\n\u001b[1;32m   1563\u001b[0m     \u001b[0;32mdef\u001b[0m \u001b[0minner\u001b[0m\u001b[0;34m(\u001b[0m\u001b[0max\u001b[0m\u001b[0;34m,\u001b[0m \u001b[0;34m*\u001b[0m\u001b[0margs\u001b[0m\u001b[0;34m,\u001b[0m \u001b[0mdata\u001b[0m\u001b[0;34m=\u001b[0m\u001b[0;32mNone\u001b[0m\u001b[0;34m,\u001b[0m \u001b[0;34m**\u001b[0m\u001b[0mkwargs\u001b[0m\u001b[0;34m)\u001b[0m\u001b[0;34m:\u001b[0m\u001b[0;34m\u001b[0m\u001b[0;34m\u001b[0m\u001b[0m\n\u001b[1;32m   1564\u001b[0m         \u001b[0;32mif\u001b[0m \u001b[0mdata\u001b[0m \u001b[0;32mis\u001b[0m \u001b[0;32mNone\u001b[0m\u001b[0;34m:\u001b[0m\u001b[0;34m\u001b[0m\u001b[0;34m\u001b[0m\u001b[0m\n\u001b[0;32m-> 1565\u001b[0;31m             \u001b[0;32mreturn\u001b[0m \u001b[0mfunc\u001b[0m\u001b[0;34m(\u001b[0m\u001b[0max\u001b[0m\u001b[0;34m,\u001b[0m \u001b[0;34m*\u001b[0m\u001b[0mmap\u001b[0m\u001b[0;34m(\u001b[0m\u001b[0msanitize_sequence\u001b[0m\u001b[0;34m,\u001b[0m \u001b[0margs\u001b[0m\u001b[0;34m)\u001b[0m\u001b[0;34m,\u001b[0m \u001b[0;34m**\u001b[0m\u001b[0mkwargs\u001b[0m\u001b[0;34m)\u001b[0m\u001b[0;34m\u001b[0m\u001b[0;34m\u001b[0m\u001b[0m\n\u001b[0m\u001b[1;32m   1566\u001b[0m \u001b[0;34m\u001b[0m\u001b[0m\n\u001b[1;32m   1567\u001b[0m         \u001b[0mbound\u001b[0m \u001b[0;34m=\u001b[0m \u001b[0mnew_sig\u001b[0m\u001b[0;34m.\u001b[0m\u001b[0mbind\u001b[0m\u001b[0;34m(\u001b[0m\u001b[0max\u001b[0m\u001b[0;34m,\u001b[0m \u001b[0;34m*\u001b[0m\u001b[0margs\u001b[0m\u001b[0;34m,\u001b[0m \u001b[0;34m**\u001b[0m\u001b[0mkwargs\u001b[0m\u001b[0;34m)\u001b[0m\u001b[0;34m\u001b[0m\u001b[0;34m\u001b[0m\u001b[0m\n",
            "\u001b[0;32m/usr/local/lib/python3.7/dist-packages/matplotlib/cbook/deprecation.py\u001b[0m in \u001b[0;36mwrapper\u001b[0;34m(*args, **kwargs)\u001b[0m\n\u001b[1;32m    356\u001b[0m                 \u001b[0;34mf\"%(removal)s.  If any parameter follows {name!r}, they \"\u001b[0m\u001b[0;34m\u001b[0m\u001b[0;34m\u001b[0m\u001b[0m\n\u001b[1;32m    357\u001b[0m                 f\"should be pass as keyword, not positionally.\")\n\u001b[0;32m--> 358\u001b[0;31m         \u001b[0;32mreturn\u001b[0m \u001b[0mfunc\u001b[0m\u001b[0;34m(\u001b[0m\u001b[0;34m*\u001b[0m\u001b[0margs\u001b[0m\u001b[0;34m,\u001b[0m \u001b[0;34m**\u001b[0m\u001b[0mkwargs\u001b[0m\u001b[0;34m)\u001b[0m\u001b[0;34m\u001b[0m\u001b[0;34m\u001b[0m\u001b[0m\n\u001b[0m\u001b[1;32m    359\u001b[0m \u001b[0;34m\u001b[0m\u001b[0m\n\u001b[1;32m    360\u001b[0m     \u001b[0;32mreturn\u001b[0m \u001b[0mwrapper\u001b[0m\u001b[0;34m\u001b[0m\u001b[0;34m\u001b[0m\u001b[0m\n",
            "\u001b[0;32m/usr/local/lib/python3.7/dist-packages/matplotlib/cbook/deprecation.py\u001b[0m in \u001b[0;36mwrapper\u001b[0;34m(*args, **kwargs)\u001b[0m\n\u001b[1;32m    356\u001b[0m                 \u001b[0;34mf\"%(removal)s.  If any parameter follows {name!r}, they \"\u001b[0m\u001b[0;34m\u001b[0m\u001b[0;34m\u001b[0m\u001b[0m\n\u001b[1;32m    357\u001b[0m                 f\"should be pass as keyword, not positionally.\")\n\u001b[0;32m--> 358\u001b[0;31m         \u001b[0;32mreturn\u001b[0m \u001b[0mfunc\u001b[0m\u001b[0;34m(\u001b[0m\u001b[0;34m*\u001b[0m\u001b[0margs\u001b[0m\u001b[0;34m,\u001b[0m \u001b[0;34m**\u001b[0m\u001b[0mkwargs\u001b[0m\u001b[0;34m)\u001b[0m\u001b[0;34m\u001b[0m\u001b[0;34m\u001b[0m\u001b[0m\n\u001b[0m\u001b[1;32m    359\u001b[0m \u001b[0;34m\u001b[0m\u001b[0m\n\u001b[1;32m    360\u001b[0m     \u001b[0;32mreturn\u001b[0m \u001b[0mwrapper\u001b[0m\u001b[0;34m\u001b[0m\u001b[0;34m\u001b[0m\u001b[0m\n",
            "\u001b[0;32m/usr/local/lib/python3.7/dist-packages/matplotlib/axes/_axes.py\u001b[0m in \u001b[0;36mimshow\u001b[0;34m(self, X, cmap, norm, aspect, interpolation, alpha, vmin, vmax, origin, extent, shape, filternorm, filterrad, imlim, resample, url, **kwargs)\u001b[0m\n\u001b[1;32m   5624\u001b[0m                               resample=resample, **kwargs)\n\u001b[1;32m   5625\u001b[0m \u001b[0;34m\u001b[0m\u001b[0m\n\u001b[0;32m-> 5626\u001b[0;31m         \u001b[0mim\u001b[0m\u001b[0;34m.\u001b[0m\u001b[0mset_data\u001b[0m\u001b[0;34m(\u001b[0m\u001b[0mX\u001b[0m\u001b[0;34m)\u001b[0m\u001b[0;34m\u001b[0m\u001b[0;34m\u001b[0m\u001b[0m\n\u001b[0m\u001b[1;32m   5627\u001b[0m         \u001b[0mim\u001b[0m\u001b[0;34m.\u001b[0m\u001b[0mset_alpha\u001b[0m\u001b[0;34m(\u001b[0m\u001b[0malpha\u001b[0m\u001b[0;34m)\u001b[0m\u001b[0;34m\u001b[0m\u001b[0;34m\u001b[0m\u001b[0m\n\u001b[1;32m   5628\u001b[0m         \u001b[0;32mif\u001b[0m \u001b[0mim\u001b[0m\u001b[0;34m.\u001b[0m\u001b[0mget_clip_path\u001b[0m\u001b[0;34m(\u001b[0m\u001b[0;34m)\u001b[0m \u001b[0;32mis\u001b[0m \u001b[0;32mNone\u001b[0m\u001b[0;34m:\u001b[0m\u001b[0;34m\u001b[0m\u001b[0;34m\u001b[0m\u001b[0m\n",
            "\u001b[0;32m/usr/local/lib/python3.7/dist-packages/matplotlib/image.py\u001b[0m in \u001b[0;36mset_data\u001b[0;34m(self, A)\u001b[0m\n\u001b[1;32m    692\u001b[0m                 not np.can_cast(self._A.dtype, float, \"same_kind\")):\n\u001b[1;32m    693\u001b[0m             raise TypeError(\"Image data of dtype {} cannot be converted to \"\n\u001b[0;32m--> 694\u001b[0;31m                             \"float\".format(self._A.dtype))\n\u001b[0m\u001b[1;32m    695\u001b[0m \u001b[0;34m\u001b[0m\u001b[0m\n\u001b[1;32m    696\u001b[0m         if not (self._A.ndim == 2\n",
            "\u001b[0;31mTypeError\u001b[0m: Image data of dtype object cannot be converted to float"
          ]
        },
        {
          "output_type": "display_data",
          "data": {
            "image/png": "[encoded data removed]",
            "text/plain": [
              "<Figure size 432x288 with 1 Axes>"
            ]
          },
          "metadata": {
            "needs_background": "light"
          }
        }
      ]
    },
    {
      "cell_type": "markdown",
      "metadata": {
        "id": "lJ0O936I6xbU"
      },
      "source": [
        "Then apply the function to do the same things that you did with your function."
      ]
    },
    {
      "cell_type": "code",
      "execution_count": null,
      "metadata": {
        "id": "4yOc3p1s6xbV"
      },
      "outputs": [],
      "source": [
        "## Use this cell to execute the cv2.threshold function and show both pythons in black.\n"
      ]
    },
    {
      "cell_type": "markdown",
      "metadata": {
        "id": "KJTCk3LEmV3v"
      },
      "source": [
        "The image should look like this:\n",
        "![logobin](https://www.dropbox.com/s/efyucpdnb7jlx7w/logobin.png?raw=1)"
      ]
    },
    {
      "cell_type": "code",
      "execution_count": null,
      "metadata": {
        "id": "-9qPupcF6xbV"
      },
      "outputs": [],
      "source": [
        "## Use this cell to execute the cv2.threshold function and show only the dark python and \"disappear\" the light one.\n"
      ]
    },
    {
      "cell_type": "markdown",
      "metadata": {
        "id": "kMsqQIrZmWuq"
      },
      "source": [
        "The image should look like this:\n",
        "![logosuperbin](https://www.dropbox.com/s/cbutycsl5y1zfr3/logosuperbin.png?raw=1)"
      ]
    },
    {
      "cell_type": "markdown",
      "metadata": {
        "id": "0CCKpmAF6xbV"
      },
      "source": [
        "### Saving the image"
      ]
    },
    {
      "cell_type": "markdown",
      "metadata": {
        "id": "utPH4Nfg6xbV"
      },
      "source": [
        "You can save any of the images produced in this tutorial by using either the `cv2.imwrite` or the `plt.imsave` command."
      ]
    },
    {
      "cell_type": "markdown",
      "metadata": {
        "id": "AvcpjZGa6xbV"
      },
      "source": [
        "For instance, to save the transpose image, use the following command:"
      ]
    },
    {
      "cell_type": "code",
      "execution_count": null,
      "metadata": {
        "id": "GEp-fELY6xbW"
      },
      "outputs": [],
      "source": [
        "#cv2.imwrite('logotrans.png',img_trans)"
      ]
    },
    {
      "cell_type": "code",
      "execution_count": null,
      "metadata": {
        "id": "QkmlyLhDm9Mm"
      },
      "outputs": [],
      "source": [
        "#plt.imsave('logotrans.png',img_trans)"
      ]
    },
    {
      "cell_type": "markdown",
      "metadata": {
        "id": "H82aQuxR6xbW"
      },
      "source": [
        "I recommend to use `cv2.imwrite`as the `plt` option will save it with the yellow background by default."
      ]
    },
    {
      "cell_type": "markdown",
      "metadata": {
        "id": "PFYw9N1UnF6o"
      },
      "source": [
        "However, if you are using Google Colab neither won't work as the notebook is online and there is nowhere to save!"
      ]
    },
    {
      "cell_type": "markdown",
      "metadata": {
        "id": "GDJu0nZn6xbW"
      },
      "source": [
        "## Bonus"
      ]
    },
    {
      "cell_type": "code",
      "execution_count": null,
      "metadata": {
        "id": "jPdzcoLY6xbW"
      },
      "outputs": [],
      "source": [
        "## Use this cell to show only the lighter python in black and \"disappear\" the darker one.\n",
        "## You can pre-process the image as you want and implement any binarisation function\n"
      ]
    },
    {
      "cell_type": "markdown",
      "metadata": {
        "id": "5kBGWSNkkg7I"
      },
      "source": [
        "The image should look like this:\n",
        "![logonosnake](https://www.dropbox.com/s/akie90qw2fv8fw1/logonosnake.png?raw=1)"
      ]
    },
    {
      "cell_type": "markdown",
      "metadata": {
        "id": "bbJPoya26xbW"
      },
      "source": [
        "## In case you are curious, how does the image look in colour?"
      ]
    },
    {
      "cell_type": "code",
      "execution_count": null,
      "metadata": {
        "id": "KoBgqFQO6xbW"
      },
      "outputs": [],
      "source": [
        "## Load the image with the flag in 1 (colour mode)\n",
        "img_color = cv2.imread(\"logo.png\",1)\n",
        "## Print the image (you will see many matrices as there are multiple dimensions)\n",
        "print(img_color)\n",
        "## Print the shape (notice now it has 3 dimensions)\n",
        "print(img_color.shape)\n",
        "## Create three copies of the image\n",
        "img_R = img_color.copy()\n",
        "img_G = img_color.copy()\n",
        "img_B = img_color.copy()\n",
        "## In each copy, only access the values of interest\n",
        "img_R[:, :, (1, 2)] = 0\n",
        "img_G[:, :, (0, 2)] = 0\n",
        "img_B[:, :, (0, 1)] = 0\n",
        "## Concatenate the original image to the three chanels\n",
        "img_RGB = np.concatenate((img_color, img_R, img_G, img_B), axis=1)\n",
        "## Show the images\n",
        "plt.imshow(img_RGB)"
      ]
    }
  ],
  "metadata": {
    "colab": {
      "name": "CMM536_T3_Lab.ipynb",
      "provenance": []
    },
    "hide_input": false,
    "kernelspec": {
      "display_name": "Python 3",
      "language": "python",
      "name": "python3"
    },
    "language_info": {
      "codemirror_mode": {
        "name": "ipython",
        "version": 3
      },
      "file_extension": ".py",
      "mimetype": "text/x-python",
      "name": "python",
      "nbconvert_exporter": "python",
      "pygments_lexer": "ipython3",
      "version": "3.7.3"
    },
    "varInspector": {
      "cols": {
        "lenName": 16,
        "lenType": 16,
        "lenVar": 40
      },
      "kernels_config": {
        "python": {
          "delete_cmd_postfix": "",
          "delete_cmd_prefix": "del ",
          "library": "var_list.py",
          "varRefreshCmd": "print(var_dic_list())"
        },
        "r": {
          "delete_cmd_postfix": ") ",
          "delete_cmd_prefix": "rm(",
          "library": "var_list.r",
          "varRefreshCmd": "cat(var_dic_list()) "
        }
      },
      "types_to_exclude": [
        "module",
        "function",
        "builtin_function_or_method",
        "instance",
        "_Feature"
      ],
      "window_display": false
    }
  },
  "nbformat": 4,
  "nbformat_minor": 0
}